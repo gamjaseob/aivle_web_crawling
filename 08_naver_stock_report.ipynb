{
 "cells": [
  {
   "cell_type": "markdown",
   "id": "f0307e2d-9d29-45c1-8d30-03428365725a",
   "metadata": {},
   "source": [
    "## Crawling Naver Stock Repots"
   ]
  },
  {
   "cell_type": "code",
   "execution_count": 7,
   "id": "7d9c0eae-25b2-4cc5-b1b7-3ed3237cc65d",
   "metadata": {},
   "outputs": [],
   "source": [
    "import requests\n",
    "import pandas as pd\n",
    "from bs4 import BeautifulSoup"
   ]
  },
  {
   "cell_type": "code",
   "execution_count": 13,
   "id": "814fc3c6-fb47-45d4-ac26-32fe830fce58",
   "metadata": {},
   "outputs": [],
   "source": [
    "# 1. URL\n",
    "url = 'https://finance.naver.com/research/company_list.naver?page=1'"
   ]
  },
  {
   "cell_type": "code",
   "execution_count": 15,
   "id": "9e786e76-3342-4c8c-a242-4bea78dac3e9",
   "metadata": {},
   "outputs": [
    {
     "data": {
      "text/plain": [
       "<Response [200]>"
      ]
     },
     "execution_count": 15,
     "metadata": {},
     "output_type": "execute_result"
    }
   ],
   "source": [
    "# 2. request(URL) > response(HTML)\n",
    "response = requests.get(url)\n",
    "response"
   ]
  },
  {
   "cell_type": "code",
   "execution_count": 21,
   "id": "7892670b-0684-43eb-8686-ff3a3a9f99ea",
   "metadata": {},
   "outputs": [
    {
     "data": {
      "text/plain": [
       "'<!--  global include -->\\n\\n\\t\\n\\t\\n\\t\\n\\t\\n\\t\\n<html lang=\\'ko\\'>\\n<head>\\n\\n\\n\\t\\n\\t\\n\\t\\t\\n\\t\\t\\t\\n\\t\\t\\t\\n\\t\\t\\t\\t<title>종목분석 리포트 : 네이버페이 증권</title>\\n\\t\\t\\t\\n\\t\\t\\n\\t\\n\\n\\n\\n\\n<meta http-equiv=\"Content-Type\" content=\"text/html; charset=utf-8\" />\\n\\n'"
      ]
     },
     "execution_count": 21,
     "metadata": {},
     "output_type": "execute_result"
    }
   ],
   "source": [
    "response.text[:200]"
   ]
  },
  {
   "cell_type": "code",
   "execution_count": 5,
   "id": "c87fbd2d-1352-4090-b552-db0b82e022a2",
   "metadata": {},
   "outputs": [],
   "source": [
    "# 3. HTML > BeautifulSoup > css-selector > DataFrame"
   ]
  },
  {
   "cell_type": "code",
   "execution_count": 27,
   "id": "3dfa9760-0223-4f2a-984e-21eb2216db9b",
   "metadata": {},
   "outputs": [
    {
     "data": {
      "text/plain": [
       "bs4.BeautifulSoup"
      ]
     },
     "execution_count": 27,
     "metadata": {},
     "output_type": "execute_result"
    }
   ],
   "source": [
    "dom = BeautifulSoup(response.content, 'html.parser')\n",
    "type(dom) # select(css-selector), select_one()"
   ]
  },
  {
   "cell_type": "code",
   "execution_count": 57,
   "id": "93294538-6171-420d-adf1-5def155ec4b2",
   "metadata": {},
   "outputs": [
    {
     "data": {
      "text/plain": [
       "49"
      ]
     },
     "execution_count": 57,
     "metadata": {},
     "output_type": "execute_result"
    }
   ],
   "source": [
    "selector = 'table.type_1 > tr'\n",
    "elements = dom.select(selector)\n",
    "len(elements)"
   ]
  },
  {
   "cell_type": "code",
   "execution_count": 99,
   "id": "18cf7972-1198-4fd9-8635-0ece08d8ffb2",
   "metadata": {},
   "outputs": [
    {
     "data": {
      "text/plain": [
       "<tr><td class=\"blank_07\" colspan=\"6\"></td></tr>"
      ]
     },
     "execution_count": 99,
     "metadata": {},
     "output_type": "execute_result"
    }
   ],
   "source": [
    "elements[1]"
   ]
  },
  {
   "cell_type": "code",
   "execution_count": 71,
   "id": "bb41dffc-60e0-44e8-adaa-583ece14409e",
   "metadata": {},
   "outputs": [
    {
     "data": {
      "text/plain": [
       "<tr>\n",
       "<td style=\"padding-left:10\">\n",
       "<a class=\"stock_item\" href=\"/item/main.naver?code=066570\" title=\"LG전자\">LG전자</a>\n",
       "</td>\n",
       "<td><a href=\"company_read.naver?nid=77126&amp;page=1\">AI데이터센터 냉각 시장 공략</a><img alt=\"NEW\" class=\"ico_new\" height=\"8\" src=\"https://ssl.pstatic.net/imgstock/images5/ico_research_new.gif\" width=\"8\"/></td>\n",
       "<td>교보증권</td>\n",
       "<td class=\"file\"><a href=\"https://stock.pstatic.net/stock-research/company/34/20240923_company_481199000.pdf\" target=\"_blank\"><img align=\"absmiddle\" alt=\"pdf\" src=\"https://ssl.pstatic.net/imgstock/images5/down.gif\"/></a></td>\n",
       "<td class=\"date\" style=\"padding-left:5px\">24.09.23</td>\n",
       "<td class=\"date\">219</td>\n",
       "</tr>"
      ]
     },
     "execution_count": 71,
     "metadata": {},
     "output_type": "execute_result"
    }
   ],
   "source": [
    "elements[2]"
   ]
  },
  {
   "cell_type": "code",
   "execution_count": 67,
   "id": "45ab5e99-ecf9-4ef1-8514-9a38c6b93075",
   "metadata": {},
   "outputs": [
    {
     "data": {
      "text/plain": [
       "(6,\n",
       " [<td style=\"padding-left:10\">\n",
       "  <a class=\"stock_item\" href=\"/item/main.naver?code=066570\" title=\"LG전자\">LG전자</a>\n",
       "  </td>,\n",
       "  <td><a href=\"company_read.naver?nid=77126&amp;page=1\">AI데이터센터 냉각 시장 공략</a><img alt=\"NEW\" class=\"ico_new\" height=\"8\" src=\"https://ssl.pstatic.net/imgstock/images5/ico_research_new.gif\" width=\"8\"/></td>,\n",
       "  <td>교보증권</td>,\n",
       "  <td class=\"file\"><a href=\"https://stock.pstatic.net/stock-research/company/34/20240923_company_481199000.pdf\" target=\"_blank\"><img align=\"absmiddle\" alt=\"pdf\" src=\"https://ssl.pstatic.net/imgstock/images5/down.gif\"/></a></td>,\n",
       "  <td class=\"date\" style=\"padding-left:5px\">24.09.23</td>,\n",
       "  <td class=\"date\">219</td>])"
      ]
     },
     "execution_count": 67,
     "metadata": {},
     "output_type": "execute_result"
    }
   ],
   "source": [
    "element = elements[2]\n",
    "tag = element.select('td')\n",
    "len(tag), tag"
   ]
  },
  {
   "cell_type": "code",
   "execution_count": 95,
   "id": "c527e9e7-c8dc-48d0-90bb-2f5b17efa766",
   "metadata": {},
   "outputs": [
    {
     "data": {
      "text/plain": [
       "{'stock_name': 'LG전자',\n",
       " 'stock_link': '/item/main.naver?code=066570',\n",
       " 'title': 'AI데이터센터 냉각 시장 공략',\n",
       " 'title_link': 'company_read.naver?nid=77126&page=1',\n",
       " 'writer': '교보증권',\n",
       " 'pdf_link': 'https://stock.pstatic.net/stock-research/company/34/20240923_company_481199000.pdf',\n",
       " 'date': '24.09.23',\n",
       " 'pv': '219'}"
      ]
     },
     "execution_count": 95,
     "metadata": {},
     "output_type": "execute_result"
    }
   ],
   "source": [
    "data = {}\n",
    "data['stock_name'] = tag[0].select_one('a').text\n",
    "data['stock_link'] = tag[0].select_one('a').get('href')\n",
    "data['title'] = tag[1].select_one('a').text\n",
    "data['title_link'] = tag[1].select_one('a').get('href')\n",
    "data['writer'] = tag[2].text\n",
    "data['pdf_link'] = tag[3].select_one('a').get('href')\n",
    "data['date'] = tag[4].text\n",
    "data['pv'] = tag[5].text\n",
    "data"
   ]
  },
  {
   "cell_type": "code",
   "execution_count": null,
   "id": "9f3c2653-6158-4507-8608-59c797854785",
   "metadata": {},
   "outputs": [],
   "source": [
    "selector = 'table.type_1 > tr'\n",
    "elements = dom.select(selector)"
   ]
  },
  {
   "cell_type": "code",
   "execution_count": 125,
   "id": "428d2244-8eac-48ab-82ce-008359f15e67",
   "metadata": {},
   "outputs": [],
   "source": [
    "# enumerate\n",
    "rows = []\n",
    "for idx, element in enumerate(elements):\n",
    "    tag = element.select('td')\n",
    "    # print(idx, len(tag))\n",
    "    if len(tag) == 6:\n",
    "        data = {}\n",
    "        data['stock_name'] = tag[0].select_one('a').text\n",
    "        data['stock_link'] = tag[0].select_one('a').get('href')\n",
    "        data['title'] = tag[1].select_one('a').text\n",
    "        data['title_link'] = tag[1].select_one('a').get('href')\n",
    "        data['writer'] = tag[2].text\n",
    "        data['pdf_link'] = tag[3].select_one('a').get('href')\n",
    "        data['date'] = tag[4].text\n",
    "        data['pv'] = tag[5].text\n",
    "        rows.append(data)"
   ]
  },
  {
   "cell_type": "code",
   "execution_count": 115,
   "id": "2720e99b-dadd-4a11-a886-a73b91717a55",
   "metadata": {},
   "outputs": [
    {
     "data": {
      "text/html": [
       "<div>\n",
       "<style scoped>\n",
       "    .dataframe tbody tr th:only-of-type {\n",
       "        vertical-align: middle;\n",
       "    }\n",
       "\n",
       "    .dataframe tbody tr th {\n",
       "        vertical-align: top;\n",
       "    }\n",
       "\n",
       "    .dataframe thead th {\n",
       "        text-align: right;\n",
       "    }\n",
       "</style>\n",
       "<table border=\"1\" class=\"dataframe\">\n",
       "  <thead>\n",
       "    <tr style=\"text-align: right;\">\n",
       "      <th></th>\n",
       "      <th>stock_name</th>\n",
       "      <th>stock_link</th>\n",
       "      <th>title</th>\n",
       "      <th>title_link</th>\n",
       "      <th>writer</th>\n",
       "      <th>pdf_link</th>\n",
       "      <th>date</th>\n",
       "      <th>pv</th>\n",
       "    </tr>\n",
       "  </thead>\n",
       "  <tbody>\n",
       "    <tr>\n",
       "      <th>28</th>\n",
       "      <td>동국S&amp;C</td>\n",
       "      <td>/item/main.naver?code=100130</td>\n",
       "      <td>금리 하락으로 미국에서 훈풍이 불어온다</td>\n",
       "      <td>company_read.naver?nid=77098&amp;page=1</td>\n",
       "      <td>iM증권</td>\n",
       "      <td>https://stock.pstatic.net/stock-research/compa...</td>\n",
       "      <td>24.09.19</td>\n",
       "      <td>1501</td>\n",
       "    </tr>\n",
       "    <tr>\n",
       "      <th>29</th>\n",
       "      <td>SOOP</td>\n",
       "      <td>/item/main.naver?code=067160</td>\n",
       "      <td>경쟁사 스트리머 이적, 트래픽 유입 기대</td>\n",
       "      <td>company_read.naver?nid=77097&amp;page=1</td>\n",
       "      <td>신한투자증권</td>\n",
       "      <td>https://stock.pstatic.net/stock-research/compa...</td>\n",
       "      <td>24.09.19</td>\n",
       "      <td>1455</td>\n",
       "    </tr>\n",
       "  </tbody>\n",
       "</table>\n",
       "</div>"
      ],
      "text/plain": [
       "   stock_name                    stock_link                   title  \\\n",
       "28      동국S&C  /item/main.naver?code=100130   금리 하락으로 미국에서 훈풍이 불어온다   \n",
       "29       SOOP  /item/main.naver?code=067160  경쟁사 스트리머 이적, 트래픽 유입 기대   \n",
       "\n",
       "                             title_link  writer  \\\n",
       "28  company_read.naver?nid=77098&page=1    iM증권   \n",
       "29  company_read.naver?nid=77097&page=1  신한투자증권   \n",
       "\n",
       "                                             pdf_link      date    pv  \n",
       "28  https://stock.pstatic.net/stock-research/compa...  24.09.19  1501  \n",
       "29  https://stock.pstatic.net/stock-research/compa...  24.09.19  1455  "
      ]
     },
     "execution_count": 115,
     "metadata": {},
     "output_type": "execute_result"
    }
   ],
   "source": [
    "df = pd.DataFrame(rows)\n",
    "df.tail(2)"
   ]
  },
  {
   "cell_type": "code",
   "execution_count": 133,
   "id": "ac1c7d92-7f8a-48be-9d7f-8d71bae19c11",
   "metadata": {},
   "outputs": [
    {
     "name": "stdout",
     "output_type": "stream",
     "text": [
      "['A', 'B', 'C', 'D']\n",
      "0 A\n",
      "1 B\n",
      "2 C\n",
      "3 D\n"
     ]
    }
   ],
   "source": [
    "# enumerate\n",
    "data = list('ABCD')\n",
    "print(data)\n",
    "count = 0\n",
    "for row in data:\n",
    "    print(count, row)\n",
    "    count += 1"
   ]
  },
  {
   "cell_type": "code",
   "execution_count": 141,
   "id": "84af00f3-3c32-4212-99f1-cc41c641a117",
   "metadata": {},
   "outputs": [
    {
     "name": "stdout",
     "output_type": "stream",
     "text": [
      "[(0, 'A'), (1, 'B'), (2, 'C'), (3, 'D')]\n",
      "0 A\n",
      "1 B\n",
      "2 C\n",
      "3 D\n"
     ]
    }
   ],
   "source": [
    "print(list(enumerate(data)))\n",
    "for idx, row in enumerate(data):\n",
    "    print(idx, row)"
   ]
  },
  {
   "cell_type": "code",
   "execution_count": 147,
   "id": "d2c03833-510c-432d-8d12-ae30ab9d8a40",
   "metadata": {},
   "outputs": [
    {
     "data": {
      "text/html": [
       "<div>\n",
       "<style scoped>\n",
       "    .dataframe tbody tr th:only-of-type {\n",
       "        vertical-align: middle;\n",
       "    }\n",
       "\n",
       "    .dataframe tbody tr th {\n",
       "        vertical-align: top;\n",
       "    }\n",
       "\n",
       "    .dataframe thead th {\n",
       "        text-align: right;\n",
       "    }\n",
       "</style>\n",
       "<table border=\"1\" class=\"dataframe\">\n",
       "  <thead>\n",
       "    <tr style=\"text-align: right;\">\n",
       "      <th></th>\n",
       "      <th>stock_name</th>\n",
       "      <th>stock_link</th>\n",
       "      <th>title</th>\n",
       "      <th>title_link</th>\n",
       "      <th>writer</th>\n",
       "      <th>pdf_link</th>\n",
       "      <th>date</th>\n",
       "      <th>pv</th>\n",
       "    </tr>\n",
       "  </thead>\n",
       "  <tbody>\n",
       "    <tr>\n",
       "      <th>29</th>\n",
       "      <td>SOOP</td>\n",
       "      <td>/item/main.naver?code=067160</td>\n",
       "      <td>경쟁사 스트리머 이적, 트래픽 유입 기대</td>\n",
       "      <td>company_read.naver?nid=77097&amp;page=1</td>\n",
       "      <td>신한투자증권</td>\n",
       "      <td>https://stock.pstatic.net/stock-research/compa...</td>\n",
       "      <td>24.09.19</td>\n",
       "      <td>1455</td>\n",
       "    </tr>\n",
       "  </tbody>\n",
       "</table>\n",
       "</div>"
      ],
      "text/plain": [
       "   stock_name                    stock_link                   title  \\\n",
       "29       SOOP  /item/main.naver?code=067160  경쟁사 스트리머 이적, 트래픽 유입 기대   \n",
       "\n",
       "                             title_link  writer  \\\n",
       "29  company_read.naver?nid=77097&page=1  신한투자증권   \n",
       "\n",
       "                                             pdf_link      date    pv  \n",
       "29  https://stock.pstatic.net/stock-research/compa...  24.09.19  1455  "
      ]
     },
     "execution_count": 147,
     "metadata": {},
     "output_type": "execute_result"
    }
   ],
   "source": [
    "df.tail(1)"
   ]
  },
  {
   "cell_type": "code",
   "execution_count": null,
   "id": "4a603b0c-9391-4fdd-ba36-0a174ca1f8fe",
   "metadata": {},
   "outputs": [],
   "source": [
    "# file download"
   ]
  },
  {
   "cell_type": "code",
   "execution_count": 153,
   "id": "2a9e101b-b854-496f-9843-d2f6f4196088",
   "metadata": {},
   "outputs": [
    {
     "data": {
      "text/plain": [
       "['07_naver_relational_keywords.ipynb', '08_naver_stock_report.ipynb']"
      ]
     },
     "execution_count": 153,
     "metadata": {},
     "output_type": "execute_result"
    }
   ],
   "source": [
    "# os package : 파일 시스템을 관리하는 파이썬 패키지\n",
    "import os\n",
    "# 파일목록출력\n",
    "os.listdir()[-2:]"
   ]
  },
  {
   "cell_type": "code",
   "execution_count": 157,
   "id": "2ce607eb-3f3d-40cf-b523-23a9bb3d7932",
   "metadata": {},
   "outputs": [
    {
     "data": {
      "text/plain": [
       "False"
      ]
     },
     "execution_count": 157,
     "metadata": {},
     "output_type": "execute_result"
    }
   ],
   "source": [
    "path = 'reports'\n",
    "# 디렉토리, 파일 존재 여부 확인\n",
    "os.path.exists(path)"
   ]
  },
  {
   "cell_type": "code",
   "execution_count": 159,
   "id": "ed48699b-a578-4b97-83af-ed295b20c8e1",
   "metadata": {},
   "outputs": [],
   "source": [
    "if not os.path.exists(path): # 디렉토리 없으면 True\n",
    "    os.makedirs(path) # 디렉토리생성"
   ]
  },
  {
   "cell_type": "code",
   "execution_count": 161,
   "id": "164b1d68-d0f4-44af-97e9-3ae814051b2c",
   "metadata": {},
   "outputs": [
    {
     "data": {
      "text/plain": [
       "True"
      ]
     },
     "execution_count": 161,
     "metadata": {},
     "output_type": "execute_result"
    }
   ],
   "source": [
    "os.path.exists(path)"
   ]
  },
  {
   "cell_type": "code",
   "execution_count": 165,
   "id": "d08133ab-eff6-42c4-8006-6c231b001a01",
   "metadata": {},
   "outputs": [
    {
     "data": {
      "text/plain": [
       "['08_naver_stock_report.ipynb', 'reports']"
      ]
     },
     "execution_count": 165,
     "metadata": {},
     "output_type": "execute_result"
    }
   ],
   "source": [
    "os.listdir()[-2:]"
   ]
  },
  {
   "cell_type": "code",
   "execution_count": 181,
   "id": "de596603-52c0-4629-af20-2c8944aae912",
   "metadata": {},
   "outputs": [
    {
     "data": {
      "text/plain": [
       "('AI데이터센터 냉각 시장 공략',\n",
       " 'https://stock.pstatic.net/stock-research/company/34/20240923_company_481199000.pdf')"
      ]
     },
     "execution_count": 181,
     "metadata": {},
     "output_type": "execute_result"
    }
   ],
   "source": [
    "# 1. url\n",
    "title = df.loc[0, 'title']\n",
    "pdf_link = df.loc[0, 'pdf_link']\n",
    "title, pdf_link"
   ]
  },
  {
   "cell_type": "code",
   "execution_count": 187,
   "id": "4a880034-2945-4ffe-826c-296befc953d0",
   "metadata": {},
   "outputs": [
    {
     "data": {
      "text/plain": [
       "<Response [200]>"
      ]
     },
     "execution_count": 187,
     "metadata": {},
     "output_type": "execute_result"
    }
   ],
   "source": [
    "# 2. request(pdf_link) > response(pdf)\n",
    "response = requests.get(pdf_link)\n",
    "response"
   ]
  },
  {
   "cell_type": "code",
   "execution_count": 200,
   "id": "e97279db-76dc-4bd5-a653-acecc86e6a40",
   "metadata": {},
   "outputs": [
    {
     "name": "stdout",
     "output_type": "stream",
     "text": [
      "reports/AI데이터센터 냉각 시장 공략.pdf\n"
     ]
    }
   ],
   "source": [
    "# 3. pdf > save(/reports)\n",
    "filename = f'{path}/{title}.pdf'\n",
    "print(filename)\n",
    "with open(filename, 'wb') as file:\n",
    "    file.write(response.content)"
   ]
  },
  {
   "cell_type": "code",
   "execution_count": null,
   "id": "71a1f312-048b-4ba5-ace9-4b16c25ade76",
   "metadata": {},
   "outputs": [],
   "source": [
    "# pickle : RAM > SSD : SSD > RAM"
   ]
  },
  {
   "cell_type": "code",
   "execution_count": 204,
   "id": "a2d29d22-2723-4a65-b81b-d915d1b0d9c3",
   "metadata": {},
   "outputs": [
    {
     "data": {
      "text/plain": [
       "['AI데이터센터 냉각 시장 공략.pdf']"
      ]
     },
     "execution_count": 204,
     "metadata": {},
     "output_type": "execute_result"
    }
   ],
   "source": [
    "os.listdir('reports')"
   ]
  },
  {
   "cell_type": "code",
   "execution_count": 214,
   "id": "03d39441-fec9-4048-a68d-4f3ac1f5d9b6",
   "metadata": {},
   "outputs": [],
   "source": [
    "os.makedirs(path)"
   ]
  },
  {
   "cell_type": "code",
   "execution_count": 216,
   "id": "75654066-7f3b-4a81-924f-494cdd1589da",
   "metadata": {},
   "outputs": [],
   "source": [
    "import shutil\n",
    "shutil.rmtree(path)\n",
    "# os.path.exists(path)\n",
    "os.makedirs(path)"
   ]
  },
  {
   "cell_type": "code",
   "execution_count": 218,
   "id": "5d69c600-2d99-4c6f-81d5-da34284393b8",
   "metadata": {},
   "outputs": [
    {
     "data": {
      "text/plain": [
       "[]"
      ]
     },
     "execution_count": 218,
     "metadata": {},
     "output_type": "execute_result"
    }
   ],
   "source": [
    "os.listdir(path)"
   ]
  },
  {
   "cell_type": "code",
   "execution_count": 224,
   "id": "3a95932d-ec44-4a21-bc27-5f978fa6ee8f",
   "metadata": {},
   "outputs": [
    {
     "name": "stdout",
     "output_type": "stream",
     "text": [
      "0 1 2 3 4 5 6 7 8 9 10 11 12 13 14 15 16 17 18 19 20 21 22 23 24 25 26 27 28 29 "
     ]
    }
   ],
   "source": [
    "for idx, row in df.iterrows():\n",
    "    # print(idx, row['title'], row['pdf_link'])\n",
    "    print(idx, end=' ')\n",
    "    title, pdf_link = row['title'], row['pdf_link']\n",
    "    response = requests.get(pdf_link)\n",
    "    filename = f'{path}/{title}.pdf'\n",
    "    with open(filename, 'wb') as file:\n",
    "        file.write(response.content)"
   ]
  },
  {
   "cell_type": "code",
   "execution_count": 226,
   "id": "cd1f5f94-42b2-49cb-8c6d-3b7ac317a96f",
   "metadata": {},
   "outputs": [
    {
     "data": {
      "text/plain": [
       "['2024년 3분기 부진 터널 통과해야!.pdf',\n",
       " '3Q24 Preview',\n",
       " '3Q24 일시적인 실적 둔화,  분위기 반전이 필...pdf',\n",
       " '3분기는 비수기, 그러나   주주 가치 환원에 ...pdf',\n",
       " 'AI데이터센터 냉각 시장 공략.pdf',\n",
       " 'Metsera, 너는 계획이 다 있구나.pdf',\n",
       " 'Moment of Truth.pdf',\n",
       " 'Re-rating 구간 돌입.pdf',\n",
       " '가치가 높아지는 F박스와 K패션 해외 진출 수...pdf',\n",
       " '경쟁력 있는 CDMO, 여기에도 있다.pdf',\n",
       " '경쟁사 스트리머 이적, 트래픽 유입 기대.pdf',\n",
       " '경증 아토피 치료의 글로벌  시장 판도를 바...pdf',\n",
       " '금리 하락으로 미국에서 훈풍이 불어온다.pdf',\n",
       " '길어지고 있는 기다림.pdf',\n",
       " '높아지는 Peak sales.pdf',\n",
       " '롯데렌탈의 쏘카 지분 추가취득 당분간 중단.pdf',\n",
       " '미국 타워 판가도 인상.pdf',\n",
       " '빅파마들의 RPT 방향, 우리도 간다.pdf',\n",
       " '설계와 시공능력으로 액침냉각 사업 확대.pdf',\n",
       " '속도가 느려도, 방향성은 맞다.pdf',\n",
       " '액침냉각, 기술적 강점을 확보해 나가는 중.pdf',\n",
       " '엔지니어링 플라스틱 소재 개발 및 고도화로 ...pdf',\n",
       " '엘사.pdf',\n",
       " '의대 열풍, 나만 믿어.pdf',\n",
       " '이튼의 견고한 성장 파트너.pdf',\n",
       " '지속가능한 성장.pdf',\n",
       " '코스닥 방사성의약품 기업으로 진입 .pdf',\n",
       " '콥데이 후기',\n",
       " '확대되는 TROP2 ADC 치료제 시장.pdf',\n",
       " '환율 모멘텀 발생 예상. 자사주 추가 매입 가...pdf']"
      ]
     },
     "execution_count": 226,
     "metadata": {},
     "output_type": "execute_result"
    }
   ],
   "source": [
    "os.listdir(path)"
   ]
  },
  {
   "cell_type": "code",
   "execution_count": null,
   "id": "6e6deab4-eaf5-45a3-91cc-402de1ae206d",
   "metadata": {},
   "outputs": [],
   "source": []
  },
  {
   "cell_type": "code",
   "execution_count": null,
   "id": "8bec90a9-0ed5-4627-a360-e264254af7f3",
   "metadata": {},
   "outputs": [],
   "source": []
  },
  {
   "cell_type": "code",
   "execution_count": null,
   "id": "e333bea2-03ef-445c-8987-df93eb431a93",
   "metadata": {},
   "outputs": [],
   "source": []
  },
  {
   "cell_type": "code",
   "execution_count": null,
   "id": "0df4f1d1-2964-47bc-b2c0-b6abf98b264a",
   "metadata": {},
   "outputs": [],
   "source": []
  },
  {
   "cell_type": "code",
   "execution_count": null,
   "id": "72242d76-ea4a-4d49-a045-73d3a6121ef2",
   "metadata": {},
   "outputs": [],
   "source": []
  },
  {
   "cell_type": "code",
   "execution_count": null,
   "id": "2ddba189-4348-4cae-bb8c-f7800db12836",
   "metadata": {},
   "outputs": [],
   "source": []
  },
  {
   "cell_type": "code",
   "execution_count": null,
   "id": "ab66160a-298f-48f5-b0a4-15bca1c0dff5",
   "metadata": {},
   "outputs": [],
   "source": []
  }
 ],
 "metadata": {
  "kernelspec": {
   "display_name": "Python 3 (ipykernel)",
   "language": "python",
   "name": "python3"
  },
  "language_info": {
   "codemirror_mode": {
    "name": "ipython",
    "version": 3
   },
   "file_extension": ".py",
   "mimetype": "text/x-python",
   "name": "python",
   "nbconvert_exporter": "python",
   "pygments_lexer": "ipython3",
   "version": "3.12.4"
  }
 },
 "nbformat": 4,
 "nbformat_minor": 5
}
